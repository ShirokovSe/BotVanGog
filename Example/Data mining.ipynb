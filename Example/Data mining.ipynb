{
 "cells": [
  {
   "cell_type": "code",
   "execution_count": 1,
   "metadata": {},
   "outputs": [
    {
     "name": "stderr",
     "output_type": "stream",
     "text": [
      "c:\\users\\сергей\\appdata\\local\\programs\\python\\python38\\lib\\site-packages\\requests\\__init__.py:89: RequestsDependencyWarning: urllib3 (1.26.7) or chardet (3.0.4) doesn't match a supported version!\n",
      "  warnings.warn(\"urllib3 ({}) or chardet ({}) doesn't match a supported \"\n"
     ]
    }
   ],
   "source": [
    "from urllib.request import urlopen\n",
    "import requests\n",
    "from bs4 import BeautifulSoup\n",
    "import os\n",
    "import warnings\n",
    "from selenium import webdriver\n",
    "from glob import glob\n",
    "import datetime\n",
    "import time\n",
    "warnings.filterwarnings('ignore')"
   ]
  },
  {
   "cell_type": "code",
   "execution_count": 59,
   "metadata": {},
   "outputs": [],
   "source": [
    "os.chdir('Classic')"
   ]
  },
  {
   "cell_type": "markdown",
   "metadata": {},
   "source": [
    "Запускаем GoogleChrome для обработки запросов"
   ]
  },
  {
   "cell_type": "code",
   "execution_count": 3,
   "metadata": {},
   "outputs": [],
   "source": [
    "exe_path = 'C:\\\\Users\\\\Сергей\\\\Desktop\\\\chromedriver.exe'"
   ]
  },
  {
   "cell_type": "code",
   "execution_count": 4,
   "metadata": {},
   "outputs": [],
   "source": [
    "driver = webdriver.Chrome(executable_path=exe_path)"
   ]
  },
  {
   "cell_type": "code",
   "execution_count": 7,
   "metadata": {},
   "outputs": [],
   "source": [
    "def prepare_dataset(request,type_, folder_name,PATH):\n",
    "    initial_PATH = PATH\n",
    "    PATH_full = os.path.join(PATH,type_)\n",
    "    try:\n",
    "        os.mkdir(os.path.join(PATH_full,folder_name))\n",
    "    except:\n",
    "        pass\n",
    "    request = request.split()\n",
    "    request = '%20'.join(request)\n",
    "    driver.get(f'https://yandex.ru/images/search?text={request}&from=tabbar')\n",
    "    \n",
    "    SCROLL_PAUSE_TIME = 30\n",
    "\n",
    "    # Получаем станицу после одного пролистывания\n",
    "    last_height = driver.execute_script(\"return document.body.scrollHeight\")\n",
    "    init_time = datetime.datetime.now()\n",
    "    \n",
    "    res_PATH = os.path.join(PATH_full,folder_name)\n",
    "    \n",
    "    while True:\n",
    "        # Прокручиваем страницу вниз\n",
    "        driver.execute_script(\"window.scrollTo(0, document.body.scrollHeight);\")\n",
    "\n",
    "        # Ждем загрузки страницы\n",
    "        time.sleep(SCROLL_PAUSE_TIME)\n",
    "        finish_time = datetime.datetime.now()\n",
    "        \n",
    "        if (finish_time - init_time).seconds > 300:\n",
    "            break\n",
    "\n",
    "    page = driver.page_source\n",
    "    os.chdir(os.path.join(PATH_full,folder_name))\n",
    "    soup = BeautifulSoup(page,'html.parser')\n",
    "    images = soup.find_all('img')\n",
    "\n",
    "    #получение файлов и их сохранение локально\n",
    "    for num, image in enumerate(images):\n",
    "        name = f'{num}'\n",
    "        try:\n",
    "            link = image['src']\n",
    "        except:\n",
    "            pass\n",
    "        try:\n",
    "            with open(f'{name}.jpg','wb') as f:\n",
    "                im = requests.get('https:'+ link)\n",
    "                f.write(im.content)\n",
    "        except:\n",
    "            try:\n",
    "                im = requests.get(link)\n",
    "                f.write(im.content)\n",
    "            except:\n",
    "                try:\n",
    "                    with open(f'{name}.jpg','wb') as f:\n",
    "                        im = requests.get('http:'+ link)\n",
    "                        f.write(im.content)\n",
    "                except:\n",
    "                    pass\n",
    "                    \n",
    "    \n",
    "    \n",
    "    os.chdir(initial_PATH)\n",
    "    return len(glob(f'{res_PATH}\\\\*.jpg'))\n"
   ]
  },
  {
   "cell_type": "code",
   "execution_count": 8,
   "metadata": {},
   "outputs": [
    {
     "data": {
      "text/plain": [
       "1484"
      ]
     },
     "execution_count": 8,
     "metadata": {},
     "output_type": "execute_result"
    }
   ],
   "source": [
    "prepare_dataset('здания в стиле классицизм','Buildings', 'Классицизм', os.getcwd())"
   ]
  },
  {
   "cell_type": "code",
   "execution_count": null,
   "metadata": {},
   "outputs": [],
   "source": []
  }
 ],
 "metadata": {
  "kernelspec": {
   "display_name": "Python 3",
   "language": "python",
   "name": "python3"
  },
  "language_info": {
   "codemirror_mode": {
    "name": "ipython",
    "version": 3
   },
   "file_extension": ".py",
   "mimetype": "text/x-python",
   "name": "python",
   "nbconvert_exporter": "python",
   "pygments_lexer": "ipython3",
   "version": "3.8.0"
  }
 },
 "nbformat": 4,
 "nbformat_minor": 4
}
